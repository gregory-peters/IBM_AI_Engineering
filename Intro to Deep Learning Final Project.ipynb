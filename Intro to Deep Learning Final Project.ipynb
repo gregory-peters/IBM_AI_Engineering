{
 "cells": [
  {
   "cell_type": "markdown",
   "id": "e99d6683-fc50-4c3b-bcfe-0d41f6551b63",
   "metadata": {},
   "source": [
    "# Build a Regression Model in Keras"
   ]
  },
  {
   "cell_type": "markdown",
   "id": "154d689f-60ed-4bb7-b42a-e7bf518626cb",
   "metadata": {},
   "source": [
    "### Introduction to Deep Learning & Neural Networks with Keras\n",
    "### IBM AI Engineering Professional Certificate\n",
    "Gregory Peters"
   ]
  },
  {
   "cell_type": "markdown",
   "id": "b045f6c2-d402-4aac-9314-1661fb871519",
   "metadata": {},
   "source": [
    "## Part A - Build a Baseline Model"
   ]
  },
  {
   "cell_type": "code",
   "execution_count": 1,
   "id": "3642e4a8-bbae-4beb-9b58-4656aed36af2",
   "metadata": {},
   "outputs": [],
   "source": [
    "import pandas as pd\n",
    "import numpy as np\n",
    "from sklearn.model_selection import train_test_split\n",
    "from sklearn.metrics import mean_squared_error as mse\n",
    "import matplotlib.pyplot as plt\n",
    "%matplotlib inline"
   ]
  },
  {
   "cell_type": "code",
   "execution_count": 2,
   "id": "5a2aa0bd-3bf0-4cf7-a75f-f91abf778e1a",
   "metadata": {},
   "outputs": [],
   "source": [
    "import keras\n",
    "from keras.models import Sequential\n",
    "from keras.layers import Dense"
   ]
  },
  {
   "cell_type": "code",
   "execution_count": 3,
   "id": "dbfd0c00-14e4-45bf-8ddd-ebae8a14c8f4",
   "metadata": {},
   "outputs": [
    {
     "data": {
      "text/html": [
       "<div>\n",
       "<style scoped>\n",
       "    .dataframe tbody tr th:only-of-type {\n",
       "        vertical-align: middle;\n",
       "    }\n",
       "\n",
       "    .dataframe tbody tr th {\n",
       "        vertical-align: top;\n",
       "    }\n",
       "\n",
       "    .dataframe thead th {\n",
       "        text-align: right;\n",
       "    }\n",
       "</style>\n",
       "<table border=\"1\" class=\"dataframe\">\n",
       "  <thead>\n",
       "    <tr style=\"text-align: right;\">\n",
       "      <th></th>\n",
       "      <th>Cement</th>\n",
       "      <th>Blast Furnace Slag</th>\n",
       "      <th>Fly Ash</th>\n",
       "      <th>Water</th>\n",
       "      <th>Superplasticizer</th>\n",
       "      <th>Coarse Aggregate</th>\n",
       "      <th>Fine Aggregate</th>\n",
       "      <th>Age</th>\n",
       "      <th>Strength</th>\n",
       "    </tr>\n",
       "  </thead>\n",
       "  <tbody>\n",
       "    <tr>\n",
       "      <th>0</th>\n",
       "      <td>540.0</td>\n",
       "      <td>0.0</td>\n",
       "      <td>0.0</td>\n",
       "      <td>162.0</td>\n",
       "      <td>2.5</td>\n",
       "      <td>1040.0</td>\n",
       "      <td>676.0</td>\n",
       "      <td>28</td>\n",
       "      <td>79.99</td>\n",
       "    </tr>\n",
       "    <tr>\n",
       "      <th>1</th>\n",
       "      <td>540.0</td>\n",
       "      <td>0.0</td>\n",
       "      <td>0.0</td>\n",
       "      <td>162.0</td>\n",
       "      <td>2.5</td>\n",
       "      <td>1055.0</td>\n",
       "      <td>676.0</td>\n",
       "      <td>28</td>\n",
       "      <td>61.89</td>\n",
       "    </tr>\n",
       "    <tr>\n",
       "      <th>2</th>\n",
       "      <td>332.5</td>\n",
       "      <td>142.5</td>\n",
       "      <td>0.0</td>\n",
       "      <td>228.0</td>\n",
       "      <td>0.0</td>\n",
       "      <td>932.0</td>\n",
       "      <td>594.0</td>\n",
       "      <td>270</td>\n",
       "      <td>40.27</td>\n",
       "    </tr>\n",
       "    <tr>\n",
       "      <th>3</th>\n",
       "      <td>332.5</td>\n",
       "      <td>142.5</td>\n",
       "      <td>0.0</td>\n",
       "      <td>228.0</td>\n",
       "      <td>0.0</td>\n",
       "      <td>932.0</td>\n",
       "      <td>594.0</td>\n",
       "      <td>365</td>\n",
       "      <td>41.05</td>\n",
       "    </tr>\n",
       "    <tr>\n",
       "      <th>4</th>\n",
       "      <td>198.6</td>\n",
       "      <td>132.4</td>\n",
       "      <td>0.0</td>\n",
       "      <td>192.0</td>\n",
       "      <td>0.0</td>\n",
       "      <td>978.4</td>\n",
       "      <td>825.5</td>\n",
       "      <td>360</td>\n",
       "      <td>44.30</td>\n",
       "    </tr>\n",
       "  </tbody>\n",
       "</table>\n",
       "</div>"
      ],
      "text/plain": [
       "   Cement  Blast Furnace Slag  Fly Ash  Water  Superplasticizer  \\\n",
       "0   540.0                 0.0      0.0  162.0               2.5   \n",
       "1   540.0                 0.0      0.0  162.0               2.5   \n",
       "2   332.5               142.5      0.0  228.0               0.0   \n",
       "3   332.5               142.5      0.0  228.0               0.0   \n",
       "4   198.6               132.4      0.0  192.0               0.0   \n",
       "\n",
       "   Coarse Aggregate  Fine Aggregate  Age  Strength  \n",
       "0            1040.0           676.0   28     79.99  \n",
       "1            1055.0           676.0   28     61.89  \n",
       "2             932.0           594.0  270     40.27  \n",
       "3             932.0           594.0  365     41.05  \n",
       "4             978.4           825.5  360     44.30  "
      ]
     },
     "execution_count": 3,
     "metadata": {},
     "output_type": "execute_result"
    }
   ],
   "source": [
    "concrete_data = pd.read_csv(\"concrete_data.csv\")\n",
    "concrete_data.head()"
   ]
  },
  {
   "cell_type": "code",
   "execution_count": 4,
   "id": "f85a43d7-9ba1-415e-948d-264c2f2e7ab3",
   "metadata": {},
   "outputs": [
    {
     "data": {
      "text/html": [
       "<div>\n",
       "<style scoped>\n",
       "    .dataframe tbody tr th:only-of-type {\n",
       "        vertical-align: middle;\n",
       "    }\n",
       "\n",
       "    .dataframe tbody tr th {\n",
       "        vertical-align: top;\n",
       "    }\n",
       "\n",
       "    .dataframe thead th {\n",
       "        text-align: right;\n",
       "    }\n",
       "</style>\n",
       "<table border=\"1\" class=\"dataframe\">\n",
       "  <thead>\n",
       "    <tr style=\"text-align: right;\">\n",
       "      <th></th>\n",
       "      <th>Cement</th>\n",
       "      <th>Blast Furnace Slag</th>\n",
       "      <th>Fly Ash</th>\n",
       "      <th>Water</th>\n",
       "      <th>Superplasticizer</th>\n",
       "      <th>Coarse Aggregate</th>\n",
       "      <th>Fine Aggregate</th>\n",
       "      <th>Age</th>\n",
       "    </tr>\n",
       "  </thead>\n",
       "  <tbody>\n",
       "    <tr>\n",
       "      <th>0</th>\n",
       "      <td>540.0</td>\n",
       "      <td>0.0</td>\n",
       "      <td>0.0</td>\n",
       "      <td>162.0</td>\n",
       "      <td>2.5</td>\n",
       "      <td>1040.0</td>\n",
       "      <td>676.0</td>\n",
       "      <td>28</td>\n",
       "    </tr>\n",
       "    <tr>\n",
       "      <th>1</th>\n",
       "      <td>540.0</td>\n",
       "      <td>0.0</td>\n",
       "      <td>0.0</td>\n",
       "      <td>162.0</td>\n",
       "      <td>2.5</td>\n",
       "      <td>1055.0</td>\n",
       "      <td>676.0</td>\n",
       "      <td>28</td>\n",
       "    </tr>\n",
       "    <tr>\n",
       "      <th>2</th>\n",
       "      <td>332.5</td>\n",
       "      <td>142.5</td>\n",
       "      <td>0.0</td>\n",
       "      <td>228.0</td>\n",
       "      <td>0.0</td>\n",
       "      <td>932.0</td>\n",
       "      <td>594.0</td>\n",
       "      <td>270</td>\n",
       "    </tr>\n",
       "    <tr>\n",
       "      <th>3</th>\n",
       "      <td>332.5</td>\n",
       "      <td>142.5</td>\n",
       "      <td>0.0</td>\n",
       "      <td>228.0</td>\n",
       "      <td>0.0</td>\n",
       "      <td>932.0</td>\n",
       "      <td>594.0</td>\n",
       "      <td>365</td>\n",
       "    </tr>\n",
       "    <tr>\n",
       "      <th>4</th>\n",
       "      <td>198.6</td>\n",
       "      <td>132.4</td>\n",
       "      <td>0.0</td>\n",
       "      <td>192.0</td>\n",
       "      <td>0.0</td>\n",
       "      <td>978.4</td>\n",
       "      <td>825.5</td>\n",
       "      <td>360</td>\n",
       "    </tr>\n",
       "  </tbody>\n",
       "</table>\n",
       "</div>"
      ],
      "text/plain": [
       "   Cement  Blast Furnace Slag  Fly Ash  Water  Superplasticizer  \\\n",
       "0   540.0                 0.0      0.0  162.0               2.5   \n",
       "1   540.0                 0.0      0.0  162.0               2.5   \n",
       "2   332.5               142.5      0.0  228.0               0.0   \n",
       "3   332.5               142.5      0.0  228.0               0.0   \n",
       "4   198.6               132.4      0.0  192.0               0.0   \n",
       "\n",
       "   Coarse Aggregate  Fine Aggregate  Age  \n",
       "0            1040.0           676.0   28  \n",
       "1            1055.0           676.0   28  \n",
       "2             932.0           594.0  270  \n",
       "3             932.0           594.0  365  \n",
       "4             978.4           825.5  360  "
      ]
     },
     "execution_count": 4,
     "metadata": {},
     "output_type": "execute_result"
    }
   ],
   "source": [
    "concrete_data_columns = concrete_data.columns\n",
    "\n",
    "X = concrete_data[concrete_data_columns[concrete_data_columns != 'Strength']] # all columns except Strength\n",
    "y = concrete_data['Strength'] # Strength column\n",
    "n_cols = X.shape[1]\n",
    "X.head()"
   ]
  },
  {
   "cell_type": "code",
   "execution_count": 5,
   "id": "d4e7aa81-32be-413a-8f60-03fa7fe8b254",
   "metadata": {},
   "outputs": [],
   "source": [
    "# define regression model function to build a model based on required number of hidden layers\n",
    "def regression_model(num_layers):\n",
    "    # create model\n",
    "    model = Sequential()\n",
    "    model.add(Dense(10, activation='relu', input_shape=(n_cols,)))\n",
    "    if(num_layers > 1):\n",
    "        for i in range(1,num_layers):\n",
    "            model.add(Dense(10, activation='relu'))\n",
    "    model.add(Dense(1))\n",
    "    \n",
    "    # compile model\n",
    "    model.compile(optimizer='adam', loss='mean_squared_error')\n",
    "    return model"
   ]
  },
  {
   "cell_type": "code",
   "execution_count": 6,
   "id": "15a0ae82-56e4-4820-b647-dde0952a4d35",
   "metadata": {},
   "outputs": [],
   "source": [
    "model = regression_model(1)"
   ]
  },
  {
   "cell_type": "code",
   "execution_count": 7,
   "id": "85ed9010-20da-4eee-b1c2-3485f4aa88b9",
   "metadata": {},
   "outputs": [],
   "source": [
    "# define a function to evaluate the model\n",
    "def evaluate_model(model, X, y, epochs):\n",
    "    mse_list = []\n",
    "    for i in range(50):\n",
    "        #split data into training/test sets\n",
    "        X_train, X_test, y_train, y_test = train_test_split(X, y, test_size=0.3)\n",
    "        # fit model with training data\n",
    "        model.fit(X_train, y_train, epochs=epochs, verbose=0)\n",
    "        # generate predictions from model\n",
    "        y_pred = model.predict(X_test)\n",
    "        # add mean squared error of predictions to list\n",
    "        mse_list.append(mse(y_test, y_pred))\n",
    "    mean = np.mean(mse_list)\n",
    "    std = np.std(mse_list)\n",
    "    \n",
    "    return mean, std"
   ]
  },
  {
   "cell_type": "code",
   "execution_count": 8,
   "id": "04bbadad-1da8-4773-aa3b-9d26fc91ef8d",
   "metadata": {},
   "outputs": [
    {
     "name": "stdout",
     "output_type": "stream",
     "text": [
      "Mean of Base MSE's: 50.979, Standard Deviation of Base MSE's: 10.183\n"
     ]
    }
   ],
   "source": [
    "base_mean, base_std = evaluate_model(model, X, y, 50)\n",
    "print(\"Mean of Base MSE's: %0.3f, Standard Deviation of Base MSE's: %0.3f\" % (base_mean, base_std))"
   ]
  },
  {
   "cell_type": "markdown",
   "id": "9f7f1da6-2699-481c-a103-3f9db10d7a9b",
   "metadata": {},
   "source": [
    "## Part B - Normalize the Data"
   ]
  },
  {
   "cell_type": "code",
   "execution_count": 9,
   "id": "73bdbe59-915c-4af2-9ea5-84fff92ab3d5",
   "metadata": {},
   "outputs": [
    {
     "data": {
      "text/html": [
       "<div>\n",
       "<style scoped>\n",
       "    .dataframe tbody tr th:only-of-type {\n",
       "        vertical-align: middle;\n",
       "    }\n",
       "\n",
       "    .dataframe tbody tr th {\n",
       "        vertical-align: top;\n",
       "    }\n",
       "\n",
       "    .dataframe thead th {\n",
       "        text-align: right;\n",
       "    }\n",
       "</style>\n",
       "<table border=\"1\" class=\"dataframe\">\n",
       "  <thead>\n",
       "    <tr style=\"text-align: right;\">\n",
       "      <th></th>\n",
       "      <th>Cement</th>\n",
       "      <th>Blast Furnace Slag</th>\n",
       "      <th>Fly Ash</th>\n",
       "      <th>Water</th>\n",
       "      <th>Superplasticizer</th>\n",
       "      <th>Coarse Aggregate</th>\n",
       "      <th>Fine Aggregate</th>\n",
       "      <th>Age</th>\n",
       "    </tr>\n",
       "  </thead>\n",
       "  <tbody>\n",
       "    <tr>\n",
       "      <th>0</th>\n",
       "      <td>2.476712</td>\n",
       "      <td>-0.856472</td>\n",
       "      <td>-0.846733</td>\n",
       "      <td>-0.916319</td>\n",
       "      <td>-0.620147</td>\n",
       "      <td>0.862735</td>\n",
       "      <td>-1.217079</td>\n",
       "      <td>-0.279597</td>\n",
       "    </tr>\n",
       "    <tr>\n",
       "      <th>1</th>\n",
       "      <td>2.476712</td>\n",
       "      <td>-0.856472</td>\n",
       "      <td>-0.846733</td>\n",
       "      <td>-0.916319</td>\n",
       "      <td>-0.620147</td>\n",
       "      <td>1.055651</td>\n",
       "      <td>-1.217079</td>\n",
       "      <td>-0.279597</td>\n",
       "    </tr>\n",
       "    <tr>\n",
       "      <th>2</th>\n",
       "      <td>0.491187</td>\n",
       "      <td>0.795140</td>\n",
       "      <td>-0.846733</td>\n",
       "      <td>2.174405</td>\n",
       "      <td>-1.038638</td>\n",
       "      <td>-0.526262</td>\n",
       "      <td>-2.239829</td>\n",
       "      <td>3.551340</td>\n",
       "    </tr>\n",
       "    <tr>\n",
       "      <th>3</th>\n",
       "      <td>0.491187</td>\n",
       "      <td>0.795140</td>\n",
       "      <td>-0.846733</td>\n",
       "      <td>2.174405</td>\n",
       "      <td>-1.038638</td>\n",
       "      <td>-0.526262</td>\n",
       "      <td>-2.239829</td>\n",
       "      <td>5.055221</td>\n",
       "    </tr>\n",
       "    <tr>\n",
       "      <th>4</th>\n",
       "      <td>-0.790075</td>\n",
       "      <td>0.678079</td>\n",
       "      <td>-0.846733</td>\n",
       "      <td>0.488555</td>\n",
       "      <td>-1.038638</td>\n",
       "      <td>0.070492</td>\n",
       "      <td>0.647569</td>\n",
       "      <td>4.976069</td>\n",
       "    </tr>\n",
       "  </tbody>\n",
       "</table>\n",
       "</div>"
      ],
      "text/plain": [
       "     Cement  Blast Furnace Slag   Fly Ash     Water  Superplasticizer  \\\n",
       "0  2.476712           -0.856472 -0.846733 -0.916319         -0.620147   \n",
       "1  2.476712           -0.856472 -0.846733 -0.916319         -0.620147   \n",
       "2  0.491187            0.795140 -0.846733  2.174405         -1.038638   \n",
       "3  0.491187            0.795140 -0.846733  2.174405         -1.038638   \n",
       "4 -0.790075            0.678079 -0.846733  0.488555         -1.038638   \n",
       "\n",
       "   Coarse Aggregate  Fine Aggregate       Age  \n",
       "0          0.862735       -1.217079 -0.279597  \n",
       "1          1.055651       -1.217079 -0.279597  \n",
       "2         -0.526262       -2.239829  3.551340  \n",
       "3         -0.526262       -2.239829  5.055221  \n",
       "4          0.070492        0.647569  4.976069  "
      ]
     },
     "execution_count": 9,
     "metadata": {},
     "output_type": "execute_result"
    }
   ],
   "source": [
    "# normalize the data by subtracting the mean and dividing by the standard deviation\n",
    "X_norm = (X - X.mean())/X.std()\n",
    "X_norm.head()"
   ]
  },
  {
   "cell_type": "code",
   "execution_count": 10,
   "id": "8d7ebb8d-7e27-4dcc-89d9-4fce0179abd9",
   "metadata": {},
   "outputs": [
    {
     "name": "stdout",
     "output_type": "stream",
     "text": [
      "Mean of Normalized MSE's: 46.033, Standard Deviation of Normalized MSE's: 27.636\n"
     ]
    }
   ],
   "source": [
    "norm_mean, norm_std = evaluate_model(model, X_norm, y, 50)\n",
    "print(\"Mean of Normalized MSE's: %0.3f, Standard Deviation of Normalized MSE's: %0.3f\" % (norm_mean, norm_std))"
   ]
  },
  {
   "cell_type": "code",
   "execution_count": 11,
   "id": "b0e0b8ac-d1ee-4a2b-b965-c770035b6d22",
   "metadata": {},
   "outputs": [],
   "source": [
    "# define a simple function to plot a bar chart for visualization\n",
    "def plot_bar(df):\n",
    "    ax = plt.subplot()\n",
    "    x_pos = np.arange(len(df['Model']))\n",
    "    ax.bar(x_pos, df['Mean'], yerr=df['Std'])\n",
    "    ax.set_ylabel('Mean of Mean Squared Errors of Model')\n",
    "    ax.set_xticks(x_pos)\n",
    "    ax.set_xticklabels(df['Model'])\n",
    "    ax.yaxis.grid(True)"
   ]
  },
  {
   "cell_type": "code",
   "execution_count": 12,
   "id": "5ce86aab-57a6-4687-afb0-983119b85bec",
   "metadata": {},
   "outputs": [],
   "source": [
    "means_df = pd.DataFrame(data={'Model' : ['Base', 'Normalized Data'],\n",
    "           'Mean' : [base_mean, norm_mean],\n",
    "           'Std' : [base_std, norm_std]})"
   ]
  },
  {
   "cell_type": "code",
   "execution_count": 13,
   "id": "68b03f74-4730-4a83-83f5-8c10296c2826",
   "metadata": {},
   "outputs": [
    {
     "data": {
      "image/png": "[encoded data removed]",
      "text/plain": [
       "<Figure size 432x288 with 1 Axes>"
      ]
     },
     "metadata": {
      "needs_background": "light"
     },
     "output_type": "display_data"
    }
   ],
   "source": [
    "plot_bar(means_df)"
   ]
  },
  {
   "cell_type": "markdown",
   "id": "b4733971-ebe0-49de-b98e-1c6d283c2df3",
   "metadata": {},
   "source": [
    "Compared to Part A, the mean of the MSE's in Part B showed a slight improvement. The mean of the MSE's in part A was 50.979, whereas it went down to 46.033 in part B. While the mean of the MSE's went down, the standard deviation increased, as seen in the error bars of the bar chart."
   ]
  },
  {
   "cell_type": "markdown",
   "id": "fdda0b32-fb0e-46a9-bb3a-6a75a4b2b553",
   "metadata": {},
   "source": [
    "## Part C - Increase the Number of Epochs"
   ]
  },
  {
   "cell_type": "code",
   "execution_count": 14,
   "id": "b2f09cce-b4e7-4601-a43d-8673760542a2",
   "metadata": {},
   "outputs": [
    {
     "name": "stdout",
     "output_type": "stream",
     "text": [
      "Mean of Increased Epochs MSE's: 30.062, Standard Deviation of Increased Epochs MSE's: 2.792\n"
     ]
    }
   ],
   "source": [
    "epoch_mean, epoch_std = evaluate_model(model, X_norm, y, 100)\n",
    "print(\"Mean of Increased Epochs MSE's: %0.3f, Standard Deviation of Increased Epochs MSE's: %0.3f\" \n",
    "      % (epoch_mean, epoch_std))"
   ]
  },
  {
   "cell_type": "code",
   "execution_count": 15,
   "id": "f248fcb6-383c-4da8-95ed-988129761ac5",
   "metadata": {},
   "outputs": [
    {
     "data": {
      "image/png": "[encoded data removed]",
      "text/plain": [
       "<Figure size 432x288 with 1 Axes>"
      ]
     },
     "metadata": {
      "needs_background": "light"
     },
     "output_type": "display_data"
    }
   ],
   "source": [
    "means_df.loc[len(means_df.index)] = ['Increased Epochs', epoch_mean, epoch_std]\n",
    "plot_bar(means_df)"
   ]
  },
  {
   "cell_type": "markdown",
   "id": "f6b4891e-eb85-4e94-8383-e00031451386",
   "metadata": {},
   "source": [
    "Similar to part B, increasing the number of epochs from 50 to 100 lowered the mean of the MSE's from 46.033 in part B to 30.062 in part C. Subsequently, the standard deviation of the mean of the MSE's also decreased significantly from part B."
   ]
  },
  {
   "cell_type": "markdown",
   "id": "8dd4540e-30c6-4c73-ae5e-4cc74a8ef323",
   "metadata": {},
   "source": [
    "## Part D - Increase the Number of Hidden Layers"
   ]
  },
  {
   "cell_type": "code",
   "execution_count": 16,
   "id": "e565059f-6dfa-4110-a536-b9216444d87a",
   "metadata": {},
   "outputs": [
    {
     "name": "stdout",
     "output_type": "stream",
     "text": [
      "Model: \"sequential_1\"\n",
      "_________________________________________________________________\n",
      "Layer (type)                 Output Shape              Param #   \n",
      "=================================================================\n",
      "dense_2 (Dense)              (None, 10)                90        \n",
      "_________________________________________________________________\n",
      "dense_3 (Dense)              (None, 10)                110       \n",
      "_________________________________________________________________\n",
      "dense_4 (Dense)              (None, 10)                110       \n",
      "_________________________________________________________________\n",
      "dense_5 (Dense)              (None, 1)                 11        \n",
      "=================================================================\n",
      "Total params: 321\n",
      "Trainable params: 321\n",
      "Non-trainable params: 0\n",
      "_________________________________________________________________\n"
     ]
    }
   ],
   "source": [
    "layers_model = regression_model(3)\n",
    "layers_model.summary()"
   ]
  },
  {
   "cell_type": "code",
   "execution_count": 17,
   "id": "bc66100e-1458-4219-a27a-ccdc092a5b52",
   "metadata": {},
   "outputs": [
    {
     "name": "stdout",
     "output_type": "stream",
     "text": [
      "Mean of Increased Layers MSE's: 29.967, Standard Deviation of Increased LKayers MSE's: 17.741\n"
     ]
    }
   ],
   "source": [
    "layers_mean, layers_std = evaluate_model(layers_model, X_norm, y, 50)\n",
    "print(\"Mean of Increased Layers MSE's: %0.3f, Standard Deviation of Increased LKayers MSE's: %0.3f\" \n",
    "      % (layers_mean, layers_std))"
   ]
  },
  {
   "cell_type": "code",
   "execution_count": 18,
   "id": "91a10a40-2406-4bd6-a3a5-3c345605defe",
   "metadata": {},
   "outputs": [
    {
     "data": {
      "image/png": "[encoded data removed]",
      "text/plain": [
       "<Figure size 432x288 with 1 Axes>"
      ]
     },
     "metadata": {
      "needs_background": "light"
     },
     "output_type": "display_data"
    }
   ],
   "source": [
    "means_df.loc[len(means_df.index)] = ['Increased Hidden Layers', layers_mean, layers_std]\n",
    "plot_bar(means_df)"
   ]
  },
  {
   "cell_type": "markdown",
   "id": "fbc6ecf7-4292-4913-af06-1f5d2bdf2079",
   "metadata": {},
   "source": [
    "Increasing the number of hidden layers from 1 to 3 showed similar results as increasing the number of epochs in part C did, when compared to part B. The mean of the MSE's ended up being 29.967, which is a marginal improvement over part C, but pretty significant from part B. However, in part D, the standard deviation increased to a similar point as in part B."
   ]
  }
 ],
 "metadata": {
  "kernelspec": {
   "display_name": "Python 3 (ipykernel)",
   "language": "python",
   "name": "python3"
  },
  "language_info": {
   "codemirror_mode": {
    "name": "ipython",
    "version": 3
   },
   "file_extension": ".py",
   "mimetype": "text/x-python",
   "name": "python",
   "nbconvert_exporter": "python",
   "pygments_lexer": "ipython3",
   "version": "3.9.12"
  }
 },
 "nbformat": 4,
 "nbformat_minor": 5
}
